{
  "nbformat": 4,
  "nbformat_minor": 0,
  "metadata": {
    "colab": {
      "provenance": [],
      "authorship_tag": "ABX9TyNB+HKrkZVqJp1La+g/pX58",
      "include_colab_link": true
    },
    "kernelspec": {
      "name": "python3",
      "display_name": "Python 3"
    },
    "language_info": {
      "name": "python"
    }
  },
  "cells": [
    {
      "cell_type": "markdown",
      "metadata": {
        "id": "view-in-github",
        "colab_type": "text"
      },
      "source": [
        "<a href=\"https://colab.research.google.com/github/wkwangong/ctuc23owk/blob/main/ctuc23_homework02_pctc_round_1_sp.ipynb\" target=\"_parent\"><img src=\"https://colab.research.google.com/assets/colab-badge.svg\" alt=\"Open In Colab\"/></a>"
      ]
    },
    {
      "cell_type": "code",
      "execution_count": null,
      "metadata": {
        "colab": {
          "base_uri": "https://localhost:8080/"
        },
        "id": "82eAkE2ex7YT",
        "outputId": "0ab0138f-f612-4804-8ed7-2eef97b119f9"
      },
      "outputs": [
        {
          "output_type": "stream",
          "name": "stdout",
          "text": [
            "Greeting:herekjewselkfjsekfjewlkfjwelkfhw\n",
            "Greeting:kjef\n",
            "Name:werjejwekjwekljwekrjwer\n",
            "Name:kjer\n",
            "kjef kjer\n"
          ]
        }
      ],
      "source": [
        "# Question 1\n",
        "# Say hello\n",
        "# Input two words (on two separate lines) The first word will be a greeting word such as\n",
        "# Hello. The second word will a name such as Bob\n",
        "# Output a full greeting as a single line consisting of the greeting word, a space and then\n",
        "# the name.\n",
        "# Input Format\n",
        "# Two separate lines each containing a single word\n",
        "# Constraints\n",
        "# All inputs will be less than 20 characters long\n",
        "# Output Format\n",
        "# A single line of text\n",
        "\n",
        "word1=\"\"\n",
        "word2=\"\"\n",
        "\n",
        "while word1==\"\" or len(word1)>20:\n",
        "  word1 = input(\"Greeting: \")\n",
        "  \n",
        "\n",
        "while word2==\"\" or len(word2)>20:\n",
        "  word2 = input(\"Name: \")\n",
        "\n",
        "print(word1,word2)"
      ]
    },
    {
      "cell_type": "code",
      "source": [
        "# Question 2\n",
        "# Find the difference\n",
        "# Input two positive whole numbers. Output the result of subtracting the smaller one\n",
        "# from the larger one.\n",
        "# Input Format\n",
        "# Two lines of input each containing a positive whole number.\n",
        "# Constraints\n",
        "# • Input numbers will be between 0 and 1000 inclusive\n",
        "# • The two numbers will never be the same as each other\n",
        "# Output Format\n",
        "# A single positive whole number\n",
        "\n",
        "num1 = 1001\n",
        "num2 = 1001\n",
        "while num1<0 or num1>1000 or num1%1!=0:\n",
        "  num1 = float(input(\"num1: \"))\n",
        "while num2<0 or num2>1000 or num2%1!=0:\n",
        "  num2 = float(input(\"num2: \"))\n",
        "\n",
        "print(int(num1+num2))\n"
      ],
      "metadata": {
        "colab": {
          "base_uri": "https://localhost:8080/"
        },
        "id": "xkNK18Q28g_r",
        "outputId": "77243d41-dd4e-48f0-a24b-cc6f1659e181"
      },
      "execution_count": null,
      "outputs": [
        {
          "output_type": "stream",
          "name": "stdout",
          "text": [
            "num1: 0\n",
            "num2: 0\n",
            "num1+num2 = 0\n"
          ]
        }
      ]
    },
    {
      "cell_type": "code",
      "source": [
        "# Question 3\n",
        "# Grow the message\n",
        "# Input a single word.\n",
        "# Output this word repeated as many times as necessary (without spaces or line breaks)\n",
        "# so that the length of the output is greater than 30 characters (with no more repeats than\n",
        "# are needed)\n",
        "# Input Format\n",
        "# A single line containing a single word\n",
        "# Constraints\n",
        "# • The initial 'word' will be less than 50 characters long\n",
        "# • All 'words' will consist only of lowercase characters from the alphabet\n",
        "# Output Format\n",
        "# A single line of text with no spaces\n",
        "\n",
        "word=\"\"\n",
        "while word==\"\" or len(word)>=50 or word.islower()!=True or word.isalpha()!=True:\n",
        "  word=input(\"word: \")\n",
        "\n",
        "if len(word)>30:\n",
        "  print(word)\n",
        "else:\n",
        "  for i in range(((int(30/len(word))+1))):\n",
        "    print(word, end=\"\")\n"
      ],
      "metadata": {
        "colab": {
          "base_uri": "https://localhost:8080/"
        },
        "id": "e9ffQ2AA_47L",
        "outputId": "4839f7c8-09d1-4bd4-d8d0-51b40bc13d80"
      },
      "execution_count": null,
      "outputs": [
        {
          "output_type": "stream",
          "name": "stdout",
          "text": [
            "word: hio9\n",
            "word: Hioo\n",
            "word: errr\n",
            "errrerrrerrrerrrerrrerrrerrrerrr"
          ]
        }
      ]
    },
    {
      "cell_type": "code",
      "source": [
        "# Question 4\n",
        "# From pseudocode\n",
        "# Convert the following pseudocode to run in your programming language. The\n",
        "# pseudocode is not perfect and there is also a syntactical errors in it to spot & correct.\n",
        "# The code is inputting a whole number between 1 and 100 inclusive and printing out yes\n",
        "# dream big if it is greater than 50 and on the small side otherwise.\n",
        "#\n",
        "# numberChoice <- USERINPUT\n",
        "# IF numberChoice > 50\n",
        "#  THEN\n",
        "#  OUTPUT \"yes dream big\n",
        "#  ELSE\n",
        "#  OUTPUT \"on the small side\"\n",
        "# ENDIF\n",
        "#\n",
        "# Input Format\n",
        "# A single line containing a single positive whole number\n",
        "# Constraints\n",
        "# The whole number will be between 1 and 100 inclusive\n",
        "# Output Format\n",
        "# A single line of text\n",
        "\n",
        "\n",
        "numchoice = 0\n",
        "while numchoice == 0 or numchoice<1 or numchoice>100 or numchoice%1!=0:\n",
        "  numchoice = float(input(\"input a number: \"))\n",
        "if numchoice >50: \n",
        "  print(\"yes dream big\")\n",
        "else:\n",
        "  print(\"on the small side\")\n",
        "\n"
      ],
      "metadata": {
        "colab": {
          "base_uri": "https://localhost:8080/"
        },
        "id": "McIXDqh4Dn9n",
        "outputId": "275fd345-403b-4734-acae-44a56f5a2024"
      },
      "execution_count": null,
      "outputs": [
        {
          "output_type": "stream",
          "name": "stdout",
          "text": [
            "input a number: 1.3\n",
            "input a number: 1\n",
            "on the small side\n"
          ]
        }
      ]
    },
    {
      "cell_type": "code",
      "source": [
        "# Question 5\n",
        "# Mini-calculator\n",
        "# is coding a simple calculator which inputs a whole number and then an operation and\n",
        "# then another whole number and outputs the result. The operations he is supporting are\n",
        "# only + and * so it will be one of these two. Write some code to implement his minicalculator.\n",
        "# Input Format\n",
        "# Three lines of input, the first and third will be integers (whole numbers) and the middle\n",
        "# one will be a single character, either + or *\n",
        "# Constraints\n",
        "# All inputs will be whole numbers between -100 and 100\n",
        "# Output Format\n",
        "# A single whole number giving the result of the requested calculation.\n",
        "\n",
        "num1 = -101\n",
        "num2 = -101\n",
        "operator = \"x\"\n",
        "while num1<-100 or num1>100 or num1%1!=0:\n",
        "  num1 = float(input(\"1st number: \"))\n",
        "\n",
        "while not(operator==\"+\" or operator==\"*\"):\n",
        "  operator = input(\"operator: \")\n",
        "\n",
        "while num2<-100 or num2>100 or num2%1!=0:\n",
        "  num2 = float(input(\"2nd number: \"))\n",
        "\n",
        "if \"+\" in operator:\n",
        "  print(int(num1 + num2))\n",
        "else:\n",
        "  print(int(num1 * num2))"
      ],
      "metadata": {
        "colab": {
          "base_uri": "https://localhost:8080/"
        },
        "id": "_7KyPoosPPKz",
        "outputId": "37237a4c-4e28-40a6-ee66-ee9e3ba3979f"
      },
      "execution_count": null,
      "outputs": [
        {
          "output_type": "stream",
          "name": "stdout",
          "text": [
            "1st number: 3\n",
            "operator: k\n",
            "operator: *\n",
            "2nd number: 2\n",
            "6\n"
          ]
        }
      ]
    },
    {
      "cell_type": "code",
      "source": [
        "# Question 6\n",
        "# How did I do?\n",
        "# Ellie took part in the 100m sprint at her school with four other competitors. Five names\n",
        "# will be provided, one on each line, to indicate the finishing order with the first name\n",
        "# coming 1st and the last name coming 5th. Ellie will be one of those names,\n",
        "# written exactly as shown here. She would like to know what position she came:\n",
        "# 1st/2nd/3rd/4th/5th.\n",
        "# Input Format\n",
        "# 5 lines of input giving 5 names, one of which will be Ellie.\n",
        "# Constraints\n",
        "# -\n",
        "# Output Format\n",
        "# A single placement written as one of 1st/2nd/3rd/4th/5th to indicate Ellie's placement.\n",
        "\n",
        "namelist = []\n",
        "\n",
        "for i in range(5):\n",
        "  namelist.append(input(\"name: \"))\n",
        "\n",
        "if(namelist.index(\"Ellie\")+1)==1:\n",
        "  print(\"1st\")\n",
        "elif(namelist.index(\"Ellie\")+1)==2:\n",
        "  print(\"2nd\")\n",
        "elif(namelist.index(\"Ellie\")+1)==3:\n",
        "  print(\"3rd\")\n",
        "elif(namelist.index(\"Ellie\")+1)==4:\n",
        "  print(\"4th\")\n",
        "else:\n",
        "  print(\"5th\")\n"
      ],
      "metadata": {
        "colab": {
          "base_uri": "https://localhost:8080/"
        },
        "id": "D50eRyPvWbGk",
        "outputId": "8fbddfdf-576d-495f-e5da-9d9589c61607"
      },
      "execution_count": null,
      "outputs": [
        {
          "output_type": "stream",
          "name": "stdout",
          "text": [
            "name: 4rf\n",
            "name: df\n",
            "name: e\n",
            "name: Ellie\n",
            "name: x\n",
            "4th\n"
          ]
        }
      ]
    },
    {
      "cell_type": "code",
      "source": [
        "# Question 7\n",
        "# In order\n",
        "# Input two single uppercase characters (one on each line) and print them as a combined\n",
        "# line of text in alphabetical order.\n",
        "# Input Format\n",
        "# Two lines of input, each as a single text character\n",
        "# Output Format\n",
        "# A single line of text consisting of two characters\n",
        "\n",
        "alphalist = []\n",
        "\n",
        "for i in range(2):\n",
        "  alphalist.append(input(\"alphabet: \"))\n",
        "alphalist.sort()\n",
        "print(alphalist[0]+alphalist[1])"
      ],
      "metadata": {
        "colab": {
          "base_uri": "https://localhost:8080/"
        },
        "id": "eeO0SVPYZULx",
        "outputId": "7c6d5c3b-4656-4d0b-f070-754d9379495e"
      },
      "execution_count": null,
      "outputs": [
        {
          "output_type": "stream",
          "name": "stdout",
          "text": [
            "alphabet: X\n",
            "alphabet: A\n",
            "AX\n"
          ]
        }
      ]
    },
    {
      "cell_type": "code",
      "source": [
        "# Question 8\n",
        "# Watering can\n",
        "# Every day that Amy waters her plant the stem grows by one extra cm as represented\n",
        "# here by a | character. The top of her plant is represented by \\. / characters which\n",
        "# includes a full-stop character in-between.\n",
        "# Input the number of days that she waters her plant for and output a character drawing\n",
        "# of her plant after that many days. The diagram should use the full stop (.) as a\n",
        "# background character to create a rectangular output of width 3 characters.\n",
        "# Input Format\n",
        "# A single positive whole number\n",
        "# Constraints\n",
        "# The input will be a positive integer between 1 and 100 inclusive.\n",
        "# Output Format\n",
        "# A character drawing of her plant using | \\ / and . characters over multiple lines.\n",
        "\n",
        "numdays=0\n",
        "\n",
        "while numdays<1 or numdays>100 or numdays%1!=0:\n",
        "  numdays = float(input(\"number of growing days: \"))\n",
        "print(\"\\\\./\")\n",
        "for i in range(int(numdays)):\n",
        "  print(\".|.\")\n"
      ],
      "metadata": {
        "colab": {
          "base_uri": "https://localhost:8080/"
        },
        "id": "ny4ROaUWbGDg",
        "outputId": "15dd4158-f57c-45e7-b3f9-f491ce8e6323"
      },
      "execution_count": null,
      "outputs": [
        {
          "output_type": "stream",
          "name": "stdout",
          "text": [
            "number of growing days: 3\n",
            "\\./\n",
            ".|.\n",
            ".|.\n",
            ".|.\n"
          ]
        }
      ]
    },
    {
      "cell_type": "code",
      "source": [
        "# Question 9\n",
        "# Text Dance\n",
        "# Jamie's text 'dance' instructions are given as a sequence of 4 characters. These are\n",
        "# <+&>. The sequence repeats, so after the > move, next is the < move.\n",
        "# He wants a program to print out 8 dance moves, but starting at any character which will\n",
        "# be given as input.\n",
        "# Input his first dance character and print out his completed two-cycle dance.\n",
        "# Input Format\n",
        "# A single character from one of < + & >\n",
        "# Output Format\n",
        "# A completed two-cycle text dance consisting of 8 characters on a single line of output.\n",
        "\n",
        "moveslist = [\"<\",\"+\",\"&\",\">\"]\n",
        "startmove = input(\"enter <, +, &, or > : \")\n",
        "movenumber = moveslist.index(startmove)\n",
        "\n",
        "for i in range(movenumber,movenumber+8):\n",
        "  if i<4:\n",
        "    print(moveslist[i], end=\"\")\n",
        "  elif 4<=i<8:\n",
        "    print(moveslist[i-4], end=\"\")\n",
        "  else:\n",
        "    print(moveslist[i-8], end=\"\")\n"
      ],
      "metadata": {
        "colab": {
          "base_uri": "https://localhost:8080/"
        },
        "id": "kha7x4tFoSA7",
        "outputId": "b43bf8bb-87b7-4e3f-abb7-71eeb54b8104"
      },
      "execution_count": null,
      "outputs": [
        {
          "output_type": "stream",
          "name": "stdout",
          "text": [
            "enter <, +, &, or > : +\n",
            "+&><+&><"
          ]
        }
      ]
    },
    {
      "cell_type": "code",
      "source": [
        "# Question 10\n",
        "# Icecream milkshake mixer\n",
        "# Ellen's opinion of a valid (good) icecream milkshake has two portions of ice-cream\n",
        "# (indicated by the character I), one portion of milk (M), three ice cubes (C) and one\n",
        "# portion of whipped cream (W).\n",
        "# She just sticks it all in the blender and doesn't have the cream on top (a bit odd) so she\n",
        "# doesn't mind what order she puts the ingredients in the blender. Input a string of SIX\n",
        "# characters and output the missing character to state the ingredient that Ellen needs to\n",
        "# add to make a valid icecream milkshare once blended.\n",
        "# Input Format\n",
        "# A single line consisting of six characters\n",
        "# Output Format\n",
        "# A single letter (character) either I,M C or W to indicate the missing ingredient needed to\n",
        "# make a valid milkshake\n",
        "\n",
        "noI=2\n",
        "noM=1\n",
        "noC=3\n",
        "noW=1\n",
        "\n",
        "icecream=input(\"input IMCW to 6 letters:\")\n",
        "\n",
        "if noI != icecream.count(\"I\"):\n",
        "  print(\"I\")\n",
        "elif noM != icecream.count(\"M\"):\n",
        "  print(\"M\")\n",
        "elif noC != icecream.count(\"C\"):\n",
        "  print(\"C\")\n",
        "else: print(\"W\")"
      ],
      "metadata": {
        "colab": {
          "base_uri": "https://localhost:8080/"
        },
        "id": "5wd07NPByDtM",
        "outputId": "c537b23b-ed11-42fd-916d-e2b9bc29641c"
      },
      "execution_count": null,
      "outputs": [
        {
          "output_type": "stream",
          "name": "stdout",
          "text": [
            "input IMCW to 6 letters:IICCCW\n",
            "M\n"
          ]
        }
      ]
    }
  ]
}