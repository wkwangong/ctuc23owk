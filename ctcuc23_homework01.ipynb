{
  "nbformat": 4,
  "nbformat_minor": 0,
  "metadata": {
    "colab": {
      "provenance": [],
      "authorship_tag": "ABX9TyOmodx4O77bHhkCV/UqaRA6",
      "include_colab_link": true
    },
    "kernelspec": {
      "name": "python3",
      "display_name": "Python 3"
    },
    "language_info": {
      "name": "python"
    }
  },
  "cells": [
    {
      "cell_type": "markdown",
      "metadata": {
        "id": "view-in-github",
        "colab_type": "text"
      },
      "source": [
        "<a href=\"https://colab.research.google.com/github/wkwangong/projecteuler/blob/main/ctcuc23_homework01.ipynb\" target=\"_parent\"><img src=\"https://colab.research.google.com/assets/colab-badge.svg\" alt=\"Open In Colab\"/></a>"
      ]
    },
    {
      "cell_type": "code",
      "source": [
        "# Project Euler\n",
        "# Problem 1\n",
        "# If we list all the natural numbers below 10 that are multiples of 3 or 5, we get 3, 5, 6 and 9. The sum of these multiples is 23.\n",
        "# Find the sum of all the multiples of 3 or 5 below 1000.\n",
        "\n",
        "print(\"Find the sum of all the multiples of x or y below number max\")\n",
        "\n",
        "# variables to store answers\n",
        "x = 0\n",
        "y = 0\n",
        "answer = 0\n",
        "\n",
        "# user inputs to test for\n",
        "ox = int(input(\"x = \"))\n",
        "oy = int(input(\"y = \"))\n",
        "endpoint = int(input(\"number max = \"))\n",
        "\n",
        "# iteration for multiples of x \n",
        "print()\n",
        "print(\"multiples of \", x)\n",
        "while x < endpoint:\n",
        "  answer = answer + x\n",
        "  print(x, end = \" \")\n",
        "\n",
        "# iteration for multiples of 3 \n",
        "print()\n",
        "print(\"multiples of \", y)\n",
        "while y < endpoint:\n",
        "  answer = answer + y\n",
        "  print(y, end = \" \")\n",
        "  y = y + oy\n",
        "print()\n",
        "print(\"sum of multiples\", answer)"
      ],
      "metadata": {
        "id": "SQHZCJtHCZaF"
      },
      "execution_count": null,
      "outputs": []
    },
    {
      "cell_type": "code",
      "execution_count": null,
      "metadata": {
        "colab": {
          "base_uri": "https://localhost:8080/"
        },
        "id": "g8SWLWB0bI7l",
        "outputId": "4b3de3c4-e094-408c-ab4b-9ebe541ea14a"
      },
      "outputs": [
        {
          "name": "stdout",
          "output_type": "stream",
          "text": [
            "What is the query number: 600851475143\n"
          ]
        }
      ],
      "source": [
        "# Project Euler\n",
        "# Problem 3\n",
        "# The prime factors of 13195 are 5, 7, 13 and 29.\n",
        "# What is the largest prime factor of the number 600851475143 ?\n",
        "\n",
        "ylist = []\n",
        "ycount = 0\n",
        "flag = 0\n",
        "query = int(input(\"What is the query number: \"))\n",
        "\n",
        "#finding all factors of the queried number by iterations of multiplication and storing into list variable ylist\n",
        "for i in range(query+1):\n",
        "  for j in range(query+1):\n",
        "    if(j*i==query):\n",
        "      ylist.append(i)\n",
        "      ycount = ycount+1\n",
        "\n",
        "print(\"all factors of\", query, \":\", end=\", \")\n",
        "for i in range(ycount):\n",
        "  print(ylist[i], end=\" \")\n",
        "\n",
        "#identifying and printing prime numbers in ylist\n",
        "print()\n",
        "print(\"all prime factors of\", query, \":\", end=\", \")\n",
        "for j in range(1,ycount):\n",
        "  flag = 0\n",
        "  for i in range(2,query):\n",
        "    if((ylist[j]>1) and (i<=(ylist[j]/2)) and (ylist[j]%i==0)):\n",
        "      flag = 1\n",
        "      break\n",
        "  if(flag==0):\n",
        "    print(ylist[j], end = \" \")\n"
      ]
    },
    {
      "cell_type": "markdown",
      "source": [],
      "metadata": {
        "id": "-sUhFtFzj_eD"
      }
    },
    {
      "cell_type": "code",
      "source": [
        "# Project Euler\n",
        "# Problem 6\n",
        "# By listing the first six prime numbers: 2, 3, 5, 7, 11, and 13, we can see that the 6th prime is 13.\n",
        "# What is the 10 001st prime number?\n",
        "\n",
        "#number of prime numbers identified\n",
        "listcount = 0\n",
        "\n",
        "#test variable n to identify if it is a prime nunber. Drop flag if is prime\n",
        "for n in range(2,1000000):\n",
        "  flag = 0\n",
        "  for i in range(2,500000):\n",
        "    if((n>1) and (i<=(n/2)) and (n%i==0)):\n",
        "      flag = 1\n",
        "\n",
        "#if variable is identified as a prime number, increase listcount, display prime number at specific count\n",
        "  if(flag==0):\n",
        "    listcount = listcount + 1\n",
        "    if (listcount%100==0):\n",
        "      print(listcount, end=\" \")\n",
        "    if listcount==101:\n",
        "      print()\n",
        "      print(\"the no\", listcount, \"prime number is\", n)\n",
        "    if listcount==1001:\n",
        "      print()\n",
        "      print(\"the no\", listcount, \"prime number is\", n)\n",
        "    if listcount==10001:\n",
        "      print()\n",
        "      print(\"the no\", listcount, \"prime number is\", n)\n"
      ],
      "metadata": {
        "colab": {
          "base_uri": "https://localhost:8080/"
        },
        "id": "iatQusfy7L-u",
        "outputId": "02585019-7a29-427d-bee9-da99982c6ad1"
      },
      "execution_count": null,
      "outputs": [
        {
          "output_type": "stream",
          "name": "stdout",
          "text": [
            "100 \n",
            "the no 101 prime number is 547\n",
            "200 300 400 500 600 700 800 900 1000 \n",
            "the no 1001 prime number is 7927\n",
            "1100 1200 1300 1400 1500 1600 1700 1800 1900 2000 2100 2200 2300 2400 2500 2600 2700 2800 2900 3000 3100 3200 3300 3400 3500 3600 3700 3800 3900 4000 4100 4200 4300 4400 4500 4600 4700 4800 4900 5000 5100 5200 5300 5400 5500 5600 5700 5800 5900 6000 6100 6200 6300 6400 6500 6600 6700 6800 6900 7000 7100 7200 7300 7400 7500 7600 7700 7800 7900 8000 8100 8200 8300 8400 8500 8600 8700 8800 8900 9000 9100 9200 9300 9400 9500 9600 9700 9800 9900 10000 \n",
            "the no 10001 prime number is 104743\n",
            "10100 10200 10300 10400 10500 10600 10700 10800 10900 11000 11100 "
          ]
        }
      ]
    }
  ]
}